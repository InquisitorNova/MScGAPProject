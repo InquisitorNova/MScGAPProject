{
 "cells": [
  {
   "cell_type": "code",
   "execution_count": null,
   "metadata": {},
   "outputs": [],
   "source": [
    "#######################################################################################\n",
    "# Read Me Section:\n",
    "## Name:\n",
    "# Kaylen Smith Darnbrook\n",
    "# Student ID:\n",
    "# 2135667\n",
    "# Course:\n",
    "# M.S.c Machine Learning and Artificial Intelligence\n",
    "# Module:\n",
    "## DemonstrationFaceGeneration\n",
    "## Description: \n",
    "# This module is responsible for fetching the FFHQ256 dataset from kaggle, downloading it and unzipping it.\n",
    "#####################################################################################"
   ]
  },
  {
   "cell_type": "code",
   "execution_count": null,
   "metadata": {},
   "outputs": [],
   "source": [
    "# Install Kaggle API\n",
    "!pip install kaggle\n",
    "\n",
    "# Create the necessary directory and upload the kaggle.json file\n",
    "import os\n",
    "os.makedirs(os.path.expanduser(\"~/.kaggle\"), exist_ok=True)  # Use expanduser to handle home directory paths correctly\n",
    "!mv kaggle.json ~/.kaggle/\n",
    "!chmod 600 ~/.kaggle/kaggle.json\n",
    "\n",
    "# Define the output directory for the dataset\n",
    "output_dir = \"ffhq256_dataset\"\n",
    "os.makedirs(output_dir, exist_ok=True)\n",
    "\n",
    "# Download the dataset using Kaggle API\n",
    "!kaggle datasets download -d denislukovnikov/ffhq256-images-only -p {output_dir}\n",
    "\n",
    "# Unzip the dataset to the specified directory\n",
    "!unzip {output_dir}/ffhq256-images-only.zip -d {output_dir}\n",
    "\n",
    "# Clean up the zip file\n",
    "!rm {output_dir}/ffhq256-images-only.zip"
   ]
  }
 ],
 "metadata": {
  "language_info": {
   "name": "python"
  }
 },
 "nbformat": 4,
 "nbformat_minor": 2
}
